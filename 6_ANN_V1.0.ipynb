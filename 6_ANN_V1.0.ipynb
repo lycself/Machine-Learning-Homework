{
 "cells": [
  {
   "cell_type": "markdown",
   "metadata": {},
   "source": [
    "# <center> 6_ANN"
   ]
  },
  {
   "cell_type": "markdown",
   "metadata": {},
   "source": [
    "## 导入必要的库"
   ]
  },
  {
   "cell_type": "code",
   "execution_count": 31,
   "metadata": {
    "ExecuteTime": {
     "end_time": "2020-04-09T16:04:47.956179Z",
     "start_time": "2020-04-09T16:04:47.949710Z"
    }
   },
   "outputs": [],
   "source": [
    "import numpy as np\n",
    "import matplotlib.pyplot as plt\n",
    "import matplotlib\n",
    "%matplotlib inline"
   ]
  },
  {
   "cell_type": "markdown",
   "metadata": {},
   "source": [
    "## 生成数据集"
   ]
  },
  {
   "cell_type": "code",
   "execution_count": 32,
   "metadata": {
    "ExecuteTime": {
     "end_time": "2020-04-09T16:04:49.487690Z",
     "start_time": "2020-04-09T16:04:49.319783Z"
    }
   },
   "outputs": [
    {
     "data": {
      "image/png": "[encoded data removed]",
      "text/plain": [
       "<Figure size 432x288 with 1 Axes>"
      ]
     },
     "metadata": {
      "needs_background": "light"
     },
     "output_type": "display_data"
    }
   ],
   "source": [
    "from sklearn.datasets import make_blobs\n",
    "from sklearn.datasets import make_circles\n",
    "from sklearn.datasets import make_moons\n",
    "\n",
    "XX,yy=make_moons(n_samples=50,shuffle=True,noise=0.2,random_state=43)\n",
    "XX_test,yy_test=make_moons(n_samples=20,shuffle=True,noise=0.2,random_state=43)\n",
    "\n",
    "plt.plot(XX[np.where(yy == 1),0],XX[(np.where(yy == 1)),1],'ro');\n",
    "plt.plot(XX[np.where(yy == 0),0],XX[(np.where(yy == 0)),1],'bo');"
   ]
  },
  {
   "cell_type": "markdown",
   "metadata": {},
   "source": [
    "## 用反向传播算法训练"
   ]
  },
  {
   "cell_type": "code",
   "execution_count": 33,
   "metadata": {
    "ExecuteTime": {
     "end_time": "2020-04-09T16:04:58.847944Z",
     "start_time": "2020-04-09T16:04:57.368147Z"
    }
   },
   "outputs": [],
   "source": [
    "def sigmod(x):\n",
    "    return 1/(1+np.exp(-x))\n",
    "\n",
    "def sigmod_derivative(x):\n",
    "    return x*(1-x)\n",
    "\n",
    "#重要参数\n",
    "n_iter=10000\n",
    "alpha=0.5\n",
    "m=XX.shape[0]\n",
    "input_dimension=XX.shape[1]\n",
    "hidden_layer_1_dimension=10\n",
    "output_dimension=1\n",
    "\n",
    "X=XX\n",
    "y=yy.reshape(-1,1)\n",
    "Omega1=np.random.randn(input_dimension+1,hidden_layer_1_dimension)\n",
    "Omega2=np.random.randn(hidden_layer_1_dimension+1,output_dimension)\n",
    "\n",
    "J=np.empty(n_iter)\n",
    "ii=np.empty(n_iter)\n",
    "Accuracy=np.empty(n_iter)\n",
    "\n",
    "#开始训练\n",
    "for i in np.arange(n_iter):\n",
    "    \n",
    "    #定义矩阵\n",
    "    a1=X\n",
    "    a11=np.insert(a1,0,values=1,axis=1)\n",
    "    Z2=np.dot(a11,Omega1)\n",
    "    a2=sigmod(Z2)\n",
    "    a21=np.insert(a2,0,values=1,axis=1)\n",
    "    Z3=np.dot(a21,Omega2)\n",
    "    a3=sigmod(Z3)\n",
    "    #计算cost function\n",
    "    H=np.log10(a3)\n",
    "    H1=np.log10(1-a3)\n",
    "    Y1=1-y\n",
    "    J[i]=-(np.dot(y.T,H)+np.dot(Y1.T,H1))/m\n",
    "    ii[i]=i\n",
    "    \n",
    "    #计算分类精度\n",
    "    tp=len(np.where((a3>=0.5)&(y==1))[0])\n",
    "    tn=len(np.where((a3<0.5)&(y==0))[0])\n",
    "    Accuracy[i]=(tp+tn)/m\n",
    "    \n",
    "    #反向传播 Backpropagation\n",
    "    delta3=a3-y\n",
    "    d_Omega2=np.dot(a21.T,delta3)\n",
    "    delta2=np.dot(delta3,Omega2[1:,:].T)*(a2*(1-a2))\n",
    "    d_Omega1=np.dot(a11.T,delta2)\n",
    "    \n",
    "    #update weights\n",
    "    \n",
    "    Omega1=Omega1-alpha*d_Omega1/m\n",
    "    Omega2=Omega2-alpha*d_Omega2/m\n",
    "    "
   ]
  },
  {
   "cell_type": "code",
   "execution_count": 34,
   "metadata": {
    "ExecuteTime": {
     "end_time": "2020-04-09T16:04:59.069674Z",
     "start_time": "2020-04-09T16:04:58.849406Z"
    },
    "scrolled": false
   },
   "outputs": [
    {
     "data": {
      "text/plain": [
       "Text(0.5, 1.0, 'Train Accuracy')"
      ]
     },
     "execution_count": 34,
     "metadata": {},
     "output_type": "execute_result"
    },
    {
     "data": {
      "image/png": "[encoded data removed]",
      "text/plain": [
       "<Figure size 432x288 with 2 Axes>"
      ]
     },
     "metadata": {
      "needs_background": "light"
     },
     "output_type": "display_data"
    }
   ],
   "source": [
    "plt.subplot(121)\n",
    "plt.plot(ii,J)\n",
    "plt.title(\"cost function\")\n",
    "plt.subplot(122)\n",
    "plt.plot(ii,Accuracy)\n",
    "plt.title(\"Train Accuracy\")"
   ]
  },
  {
   "cell_type": "code",
   "execution_count": 35,
   "metadata": {
    "ExecuteTime": {
     "end_time": "2020-04-09T16:05:05.418384Z",
     "start_time": "2020-04-09T16:05:05.407318Z"
    }
   },
   "outputs": [
    {
     "name": "stdout",
     "output_type": "stream",
     "text": [
      "Train Accuracy: 1.0\n",
      "====================\n",
      "Test Accuracy: 0.95\n"
     ]
    }
   ],
   "source": [
    "m_test=XX_test.shape[0]\n",
    "X_test=XX_test\n",
    "y_test=yy_test.reshape(-1,1)\n",
    "\n",
    "a1=X_test\n",
    "a11=np.insert(a1,0,values=1,axis=1)\n",
    "Z2=np.dot(a11,Omega1)\n",
    "a2=sigmod(Z2)\n",
    "a21=np.insert(a2,0,values=1,axis=1)\n",
    "Z3=np.dot(a21,Omega2)\n",
    "a3=sigmod(Z3)\n",
    "\n",
    "#计算分类精度\n",
    "\n",
    "tp=len(np.where((a3>=0.5)&(y_test==1))[0])\n",
    "tn=len(np.where((a3<0.5)&(y_test==0))[0])\n",
    "Accuracy_test=(tp+tn)/m_test\n",
    "\n",
    "print(\"Train Accuracy:\",Accuracy[-1])\n",
    "print(\"=\"*20)\n",
    "print(\"Test Accuracy:\",Accuracy_test)"
   ]
  },
  {
   "cell_type": "code",
   "execution_count": null,
   "metadata": {},
   "outputs": [],
   "source": []
  },
  {
   "cell_type": "code",
   "execution_count": null,
   "metadata": {},
   "outputs": [],
   "source": []
  },
  {
   "cell_type": "code",
   "execution_count": null,
   "metadata": {},
   "outputs": [],
   "source": []
  },
  {
   "cell_type": "code",
   "execution_count": null,
   "metadata": {},
   "outputs": [],
   "source": []
  }
 ],
 "metadata": {
  "hide_input": false,
  "kernelspec": {
   "display_name": "Python 3",
   "language": "python",
   "name": "python3"
  },
  "language_info": {
   "codemirror_mode": {
    "name": "ipython",
    "version": 3
   },
   "file_extension": ".py",
   "mimetype": "text/x-python",
   "name": "python",
   "nbconvert_exporter": "python",
   "pygments_lexer": "ipython3",
   "version": "3.7.6"
  },
  "toc": {
   "base_numbering": 1,
   "nav_menu": {},
   "number_sections": true,
   "sideBar": true,
   "skip_h1_title": false,
   "title_cell": "Table of Contents",
   "title_sidebar": "Contents",
   "toc_cell": false,
   "toc_position": {},
   "toc_section_display": true,
   "toc_window_display": false
  }
 },
 "nbformat": 4,
 "nbformat_minor": 4
}
