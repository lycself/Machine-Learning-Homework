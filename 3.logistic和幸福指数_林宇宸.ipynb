{
 "cells": [
  {
   "cell_type": "markdown",
   "metadata": {},
   "source": [
    "# <center> 第一部分pandsa库"
   ]
  },
  {
   "cell_type": "code",
   "execution_count": 1,
   "metadata": {},
   "outputs": [],
   "source": [
    "import numpy as np\n",
    "import matplotlib.pyplot as plt\n",
    "%matplotlib inline\n",
    "import pandas as pd\n",
    "import statsmodels.api as sm\n",
    "import pylab as pl"
   ]
  },
  {
   "cell_type": "code",
   "execution_count": 3,
   "metadata": {},
   "outputs": [
    {
     "data": {
      "text/html": [
       "<div>\n",
       "<style scoped>\n",
       "    .dataframe tbody tr th:only-of-type {\n",
       "        vertical-align: middle;\n",
       "    }\n",
       "\n",
       "    .dataframe tbody tr th {\n",
       "        vertical-align: top;\n",
       "    }\n",
       "\n",
       "    .dataframe thead th {\n",
       "        text-align: right;\n",
       "    }\n",
       "</style>\n",
       "<table border=\"1\" class=\"dataframe\">\n",
       "  <thead>\n",
       "    <tr style=\"text-align: right;\">\n",
       "      <th></th>\n",
       "      <th>Country</th>\n",
       "      <th>Happiness.Rank</th>\n",
       "      <th>Happiness.Score</th>\n",
       "      <th>Whisker.high</th>\n",
       "      <th>Whisker.low</th>\n",
       "      <th>Economy..GDP.per.Capita.</th>\n",
       "      <th>Family</th>\n",
       "      <th>Health..Life.Expectancy.</th>\n",
       "      <th>Freedom</th>\n",
       "      <th>Generosity</th>\n",
       "      <th>Trust..Government.Corruption.</th>\n",
       "      <th>Dystopia.Residual</th>\n",
       "    </tr>\n",
       "  </thead>\n",
       "  <tbody>\n",
       "    <tr>\n",
       "      <td>0</td>\n",
       "      <td>Norway</td>\n",
       "      <td>1</td>\n",
       "      <td>7.537</td>\n",
       "      <td>7.594445</td>\n",
       "      <td>7.479556</td>\n",
       "      <td>1.616463</td>\n",
       "      <td>1.533524</td>\n",
       "      <td>0.796667</td>\n",
       "      <td>0.635423</td>\n",
       "      <td>0.362012</td>\n",
       "      <td>0.315964</td>\n",
       "      <td>2.277027</td>\n",
       "    </tr>\n",
       "    <tr>\n",
       "      <td>1</td>\n",
       "      <td>Denmark</td>\n",
       "      <td>2</td>\n",
       "      <td>7.522</td>\n",
       "      <td>7.581728</td>\n",
       "      <td>7.462272</td>\n",
       "      <td>1.482383</td>\n",
       "      <td>1.551122</td>\n",
       "      <td>0.792566</td>\n",
       "      <td>0.626007</td>\n",
       "      <td>0.355280</td>\n",
       "      <td>0.400770</td>\n",
       "      <td>2.313707</td>\n",
       "    </tr>\n",
       "    <tr>\n",
       "      <td>2</td>\n",
       "      <td>Iceland</td>\n",
       "      <td>3</td>\n",
       "      <td>7.504</td>\n",
       "      <td>7.622030</td>\n",
       "      <td>7.385970</td>\n",
       "      <td>1.480633</td>\n",
       "      <td>1.610574</td>\n",
       "      <td>0.833552</td>\n",
       "      <td>0.627163</td>\n",
       "      <td>0.475540</td>\n",
       "      <td>0.153527</td>\n",
       "      <td>2.322715</td>\n",
       "    </tr>\n",
       "    <tr>\n",
       "      <td>3</td>\n",
       "      <td>Switzerland</td>\n",
       "      <td>4</td>\n",
       "      <td>7.494</td>\n",
       "      <td>7.561772</td>\n",
       "      <td>7.426227</td>\n",
       "      <td>1.564980</td>\n",
       "      <td>1.516912</td>\n",
       "      <td>0.858131</td>\n",
       "      <td>0.620071</td>\n",
       "      <td>0.290549</td>\n",
       "      <td>0.367007</td>\n",
       "      <td>2.276716</td>\n",
       "    </tr>\n",
       "    <tr>\n",
       "      <td>4</td>\n",
       "      <td>Finland</td>\n",
       "      <td>5</td>\n",
       "      <td>7.469</td>\n",
       "      <td>7.527542</td>\n",
       "      <td>7.410458</td>\n",
       "      <td>1.443572</td>\n",
       "      <td>1.540247</td>\n",
       "      <td>0.809158</td>\n",
       "      <td>0.617951</td>\n",
       "      <td>0.245483</td>\n",
       "      <td>0.382612</td>\n",
       "      <td>2.430182</td>\n",
       "    </tr>\n",
       "    <tr>\n",
       "      <td>5</td>\n",
       "      <td>Netherlands</td>\n",
       "      <td>6</td>\n",
       "      <td>7.377</td>\n",
       "      <td>7.427426</td>\n",
       "      <td>7.326574</td>\n",
       "      <td>1.503945</td>\n",
       "      <td>1.428939</td>\n",
       "      <td>0.810696</td>\n",
       "      <td>0.585384</td>\n",
       "      <td>0.470490</td>\n",
       "      <td>0.282662</td>\n",
       "      <td>2.294804</td>\n",
       "    </tr>\n",
       "    <tr>\n",
       "      <td>6</td>\n",
       "      <td>Canada</td>\n",
       "      <td>7</td>\n",
       "      <td>7.316</td>\n",
       "      <td>7.384403</td>\n",
       "      <td>7.247597</td>\n",
       "      <td>1.479204</td>\n",
       "      <td>1.481349</td>\n",
       "      <td>0.834558</td>\n",
       "      <td>0.611101</td>\n",
       "      <td>0.435540</td>\n",
       "      <td>0.287372</td>\n",
       "      <td>2.187264</td>\n",
       "    </tr>\n",
       "    <tr>\n",
       "      <td>7</td>\n",
       "      <td>New Zealand</td>\n",
       "      <td>8</td>\n",
       "      <td>7.314</td>\n",
       "      <td>7.379510</td>\n",
       "      <td>7.248490</td>\n",
       "      <td>1.405706</td>\n",
       "      <td>1.548195</td>\n",
       "      <td>0.816760</td>\n",
       "      <td>0.614062</td>\n",
       "      <td>0.500005</td>\n",
       "      <td>0.382817</td>\n",
       "      <td>2.046456</td>\n",
       "    </tr>\n",
       "    <tr>\n",
       "      <td>8</td>\n",
       "      <td>Sweden</td>\n",
       "      <td>9</td>\n",
       "      <td>7.284</td>\n",
       "      <td>7.344095</td>\n",
       "      <td>7.223905</td>\n",
       "      <td>1.494387</td>\n",
       "      <td>1.478162</td>\n",
       "      <td>0.830875</td>\n",
       "      <td>0.612924</td>\n",
       "      <td>0.385399</td>\n",
       "      <td>0.384399</td>\n",
       "      <td>2.097538</td>\n",
       "    </tr>\n",
       "    <tr>\n",
       "      <td>9</td>\n",
       "      <td>Australia</td>\n",
       "      <td>10</td>\n",
       "      <td>7.284</td>\n",
       "      <td>7.356651</td>\n",
       "      <td>7.211349</td>\n",
       "      <td>1.484415</td>\n",
       "      <td>1.510042</td>\n",
       "      <td>0.843887</td>\n",
       "      <td>0.601607</td>\n",
       "      <td>0.477699</td>\n",
       "      <td>0.301184</td>\n",
       "      <td>2.065211</td>\n",
       "    </tr>\n",
       "  </tbody>\n",
       "</table>\n",
       "</div>"
      ],
      "text/plain": [
       "       Country  Happiness.Rank  Happiness.Score  Whisker.high  Whisker.low  \\\n",
       "0       Norway               1            7.537      7.594445     7.479556   \n",
       "1      Denmark               2            7.522      7.581728     7.462272   \n",
       "2      Iceland               3            7.504      7.622030     7.385970   \n",
       "3  Switzerland               4            7.494      7.561772     7.426227   \n",
       "4      Finland               5            7.469      7.527542     7.410458   \n",
       "5  Netherlands               6            7.377      7.427426     7.326574   \n",
       "6       Canada               7            7.316      7.384403     7.247597   \n",
       "7  New Zealand               8            7.314      7.379510     7.248490   \n",
       "8       Sweden               9            7.284      7.344095     7.223905   \n",
       "9    Australia              10            7.284      7.356651     7.211349   \n",
       "\n",
       "   Economy..GDP.per.Capita.    Family  Health..Life.Expectancy.   Freedom  \\\n",
       "0                  1.616463  1.533524                  0.796667  0.635423   \n",
       "1                  1.482383  1.551122                  0.792566  0.626007   \n",
       "2                  1.480633  1.610574                  0.833552  0.627163   \n",
       "3                  1.564980  1.516912                  0.858131  0.620071   \n",
       "4                  1.443572  1.540247                  0.809158  0.617951   \n",
       "5                  1.503945  1.428939                  0.810696  0.585384   \n",
       "6                  1.479204  1.481349                  0.834558  0.611101   \n",
       "7                  1.405706  1.548195                  0.816760  0.614062   \n",
       "8                  1.494387  1.478162                  0.830875  0.612924   \n",
       "9                  1.484415  1.510042                  0.843887  0.601607   \n",
       "\n",
       "   Generosity  Trust..Government.Corruption.  Dystopia.Residual  \n",
       "0    0.362012                       0.315964           2.277027  \n",
       "1    0.355280                       0.400770           2.313707  \n",
       "2    0.475540                       0.153527           2.322715  \n",
       "3    0.290549                       0.367007           2.276716  \n",
       "4    0.245483                       0.382612           2.430182  \n",
       "5    0.470490                       0.282662           2.294804  \n",
       "6    0.435540                       0.287372           2.187264  \n",
       "7    0.500005                       0.382817           2.046456  \n",
       "8    0.385399                       0.384399           2.097538  \n",
       "9    0.477699                       0.301184           2.065211  "
      ]
     },
     "execution_count": 3,
     "metadata": {},
     "output_type": "execute_result"
    }
   ],
   "source": [
    "df_happy = pd.read_csv(\"https://phys.xmu.edu.cn/sites/default/files/2020-03/2017Happy.csv\")\n",
    "df_happy.head(10)"
   ]
  },
  {
   "cell_type": "code",
   "execution_count": 5,
   "metadata": {},
   "outputs": [
    {
     "data": {
      "text/plain": [
       "Index(['Country', 'Happiness.Rank', 'Happiness.Score', 'Whisker.high',\n",
       "       'Whisker.low', 'Economy..GDP.per.Capita.', 'Family',\n",
       "       'Health..Life.Expectancy.', 'Freedom', 'Generosity',\n",
       "       'Trust..Government.Corruption.', 'Dystopia.Residual'],\n",
       "      dtype='object')"
      ]
     },
     "execution_count": 5,
     "metadata": {},
     "output_type": "execute_result"
    }
   ],
   "source": [
    "df_happy.columns[:]"
   ]
  },
  {
   "cell_type": "code",
   "execution_count": 7,
   "metadata": {
    "scrolled": true
   },
   "outputs": [
    {
     "name": "stdout",
     "output_type": "stream",
     "text": [
      "<class 'pandas.core.frame.DataFrame'>\n",
      "RangeIndex: 155 entries, 0 to 154\n",
      "Data columns (total 12 columns):\n",
      "Country                          155 non-null object\n",
      "Happiness.Rank                   155 non-null int64\n",
      "Happiness.Score                  155 non-null float64\n",
      "Whisker.high                     155 non-null float64\n",
      "Whisker.low                      155 non-null float64\n",
      "Economy..GDP.per.Capita.         155 non-null float64\n",
      "Family                           155 non-null float64\n",
      "Health..Life.Expectancy.         155 non-null float64\n",
      "Freedom                          155 non-null float64\n",
      "Generosity                       155 non-null float64\n",
      "Trust..Government.Corruption.    155 non-null float64\n",
      "Dystopia.Residual                155 non-null float64\n",
      "dtypes: float64(10), int64(1), object(1)\n",
      "memory usage: 14.7+ KB\n"
     ]
    }
   ],
   "source": [
    "df_happy.info()"
   ]
  },
  {
   "cell_type": "code",
   "execution_count": 9,
   "metadata": {
    "scrolled": true
   },
   "outputs": [
    {
     "data": {
      "text/html": [
       "<div>\n",
       "<style scoped>\n",
       "    .dataframe tbody tr th:only-of-type {\n",
       "        vertical-align: middle;\n",
       "    }\n",
       "\n",
       "    .dataframe tbody tr th {\n",
       "        vertical-align: top;\n",
       "    }\n",
       "\n",
       "    .dataframe thead th {\n",
       "        text-align: right;\n",
       "    }\n",
       "</style>\n",
       "<table border=\"1\" class=\"dataframe\">\n",
       "  <thead>\n",
       "    <tr style=\"text-align: right;\">\n",
       "      <th></th>\n",
       "      <th>Happiness.Rank</th>\n",
       "      <th>Happiness.Score</th>\n",
       "      <th>Whisker.high</th>\n",
       "      <th>Whisker.low</th>\n",
       "      <th>Economy..GDP.per.Capita.</th>\n",
       "      <th>Family</th>\n",
       "      <th>Health..Life.Expectancy.</th>\n",
       "      <th>Freedom</th>\n",
       "      <th>Generosity</th>\n",
       "      <th>Trust..Government.Corruption.</th>\n",
       "      <th>Dystopia.Residual</th>\n",
       "    </tr>\n",
       "  </thead>\n",
       "  <tbody>\n",
       "    <tr>\n",
       "      <td>count</td>\n",
       "      <td>155.000000</td>\n",
       "      <td>155.000000</td>\n",
       "      <td>155.000000</td>\n",
       "      <td>155.000000</td>\n",
       "      <td>155.000000</td>\n",
       "      <td>155.000000</td>\n",
       "      <td>155.000000</td>\n",
       "      <td>155.000000</td>\n",
       "      <td>155.000000</td>\n",
       "      <td>155.000000</td>\n",
       "      <td>155.000000</td>\n",
       "    </tr>\n",
       "    <tr>\n",
       "      <td>mean</td>\n",
       "      <td>78.000000</td>\n",
       "      <td>5.354019</td>\n",
       "      <td>5.452326</td>\n",
       "      <td>5.255713</td>\n",
       "      <td>0.984718</td>\n",
       "      <td>1.188898</td>\n",
       "      <td>0.551341</td>\n",
       "      <td>0.408786</td>\n",
       "      <td>0.246883</td>\n",
       "      <td>0.123120</td>\n",
       "      <td>1.850238</td>\n",
       "    </tr>\n",
       "    <tr>\n",
       "      <td>std</td>\n",
       "      <td>44.888751</td>\n",
       "      <td>1.131230</td>\n",
       "      <td>1.118542</td>\n",
       "      <td>1.145030</td>\n",
       "      <td>0.420793</td>\n",
       "      <td>0.287263</td>\n",
       "      <td>0.237073</td>\n",
       "      <td>0.149997</td>\n",
       "      <td>0.134780</td>\n",
       "      <td>0.101661</td>\n",
       "      <td>0.500028</td>\n",
       "    </tr>\n",
       "    <tr>\n",
       "      <td>min</td>\n",
       "      <td>1.000000</td>\n",
       "      <td>2.693000</td>\n",
       "      <td>2.864884</td>\n",
       "      <td>2.521116</td>\n",
       "      <td>0.000000</td>\n",
       "      <td>0.000000</td>\n",
       "      <td>0.000000</td>\n",
       "      <td>0.000000</td>\n",
       "      <td>0.000000</td>\n",
       "      <td>0.000000</td>\n",
       "      <td>0.377914</td>\n",
       "    </tr>\n",
       "    <tr>\n",
       "      <td>25%</td>\n",
       "      <td>39.500000</td>\n",
       "      <td>4.505500</td>\n",
       "      <td>4.608172</td>\n",
       "      <td>4.374955</td>\n",
       "      <td>0.663371</td>\n",
       "      <td>1.042635</td>\n",
       "      <td>0.369866</td>\n",
       "      <td>0.303677</td>\n",
       "      <td>0.154106</td>\n",
       "      <td>0.057271</td>\n",
       "      <td>1.591291</td>\n",
       "    </tr>\n",
       "    <tr>\n",
       "      <td>50%</td>\n",
       "      <td>78.000000</td>\n",
       "      <td>5.279000</td>\n",
       "      <td>5.370032</td>\n",
       "      <td>5.193152</td>\n",
       "      <td>1.064578</td>\n",
       "      <td>1.253918</td>\n",
       "      <td>0.606042</td>\n",
       "      <td>0.437454</td>\n",
       "      <td>0.231538</td>\n",
       "      <td>0.089848</td>\n",
       "      <td>1.832910</td>\n",
       "    </tr>\n",
       "    <tr>\n",
       "      <td>75%</td>\n",
       "      <td>116.500000</td>\n",
       "      <td>6.101500</td>\n",
       "      <td>6.194600</td>\n",
       "      <td>6.006527</td>\n",
       "      <td>1.318027</td>\n",
       "      <td>1.414316</td>\n",
       "      <td>0.723008</td>\n",
       "      <td>0.516561</td>\n",
       "      <td>0.323762</td>\n",
       "      <td>0.153296</td>\n",
       "      <td>2.144654</td>\n",
       "    </tr>\n",
       "    <tr>\n",
       "      <td>max</td>\n",
       "      <td>155.000000</td>\n",
       "      <td>7.537000</td>\n",
       "      <td>7.622030</td>\n",
       "      <td>7.479556</td>\n",
       "      <td>1.870766</td>\n",
       "      <td>1.610574</td>\n",
       "      <td>0.949492</td>\n",
       "      <td>0.658249</td>\n",
       "      <td>0.838075</td>\n",
       "      <td>0.464308</td>\n",
       "      <td>3.117485</td>\n",
       "    </tr>\n",
       "  </tbody>\n",
       "</table>\n",
       "</div>"
      ],
      "text/plain": [
       "       Happiness.Rank  Happiness.Score  Whisker.high  Whisker.low  \\\n",
       "count      155.000000       155.000000    155.000000   155.000000   \n",
       "mean        78.000000         5.354019      5.452326     5.255713   \n",
       "std         44.888751         1.131230      1.118542     1.145030   \n",
       "min          1.000000         2.693000      2.864884     2.521116   \n",
       "25%         39.500000         4.505500      4.608172     4.374955   \n",
       "50%         78.000000         5.279000      5.370032     5.193152   \n",
       "75%        116.500000         6.101500      6.194600     6.006527   \n",
       "max        155.000000         7.537000      7.622030     7.479556   \n",
       "\n",
       "       Economy..GDP.per.Capita.      Family  Health..Life.Expectancy.  \\\n",
       "count                155.000000  155.000000                155.000000   \n",
       "mean                   0.984718    1.188898                  0.551341   \n",
       "std                    0.420793    0.287263                  0.237073   \n",
       "min                    0.000000    0.000000                  0.000000   \n",
       "25%                    0.663371    1.042635                  0.369866   \n",
       "50%                    1.064578    1.253918                  0.606042   \n",
       "75%                    1.318027    1.414316                  0.723008   \n",
       "max                    1.870766    1.610574                  0.949492   \n",
       "\n",
       "          Freedom  Generosity  Trust..Government.Corruption.  \\\n",
       "count  155.000000  155.000000                     155.000000   \n",
       "mean     0.408786    0.246883                       0.123120   \n",
       "std      0.149997    0.134780                       0.101661   \n",
       "min      0.000000    0.000000                       0.000000   \n",
       "25%      0.303677    0.154106                       0.057271   \n",
       "50%      0.437454    0.231538                       0.089848   \n",
       "75%      0.516561    0.323762                       0.153296   \n",
       "max      0.658249    0.838075                       0.464308   \n",
       "\n",
       "       Dystopia.Residual  \n",
       "count         155.000000  \n",
       "mean            1.850238  \n",
       "std             0.500028  \n",
       "min             0.377914  \n",
       "25%             1.591291  \n",
       "50%             1.832910  \n",
       "75%             2.144654  \n",
       "max             3.117485  "
      ]
     },
     "execution_count": 9,
     "metadata": {},
     "output_type": "execute_result"
    }
   ],
   "source": [
    "df_happy.describe()"
   ]
  },
  {
   "cell_type": "markdown",
   "metadata": {},
   "source": [
    "## 经过分析，我们发现共有七个指标与Score相关\n",
    "\n",
    "#### 分别是、Family、Health、Freedom、Generosity、Trust、Dystopia\n",
    "我们选取这些指标进行分析"
   ]
  },
  {
   "cell_type": "code",
   "execution_count": 14,
   "metadata": {},
   "outputs": [
    {
     "name": "stdout",
     "output_type": "stream",
     "text": [
      "[[1.58108282e-04]\n",
      " [1.87093119e+00]\n",
      " [1.61042039e+00]\n",
      " [9.49423285e-01]\n",
      " [6.58263594e-01]\n",
      " [8.38241376e-01]\n",
      " [9.99752561e-01]\n",
      " [9.99954478e-01]]\n"
     ]
    }
   ],
   "source": [
    "df_happy.columns = [\"Country\",\"Happiness.Rank\",\"Happiness.Score\",\"Whisker.high\", \"Whisker.low\",\"Economy\", \"Family\", \"Health\",\"Freedom\",\"Generosity\",\"Trust\",\"Dystopia.Residual\"]\n",
    "Score=[]              \n",
    "Economy=[]\n",
    "Family=[]\n",
    "Health=[]\n",
    "Freedom=[]\n",
    "Generosity=[]\n",
    "Trust=[]\n",
    "Dystopia=[]\n",
    "m=0\n",
    "for i in df_happy['Happiness.Score'] :       \n",
    "    Score.append(i)\n",
    "for i in df_happy['Economy'] :\n",
    "    m=(i-0)/(1.870766-0)                     \n",
    "    Economy.append(m)\n",
    "    m=0\n",
    "for i in df_happy['Family'] :\n",
    "    m=(i-0)/(1.610574-0)\n",
    "    Family.append(m)\n",
    "    m=0\n",
    "for i in df_happy['Health'] :\n",
    "    m=(i-0)/(0.949492-0)\n",
    "    Health.append(m)\n",
    "    m=0\n",
    "for i in df_happy['Freedom'] :\n",
    "    m=(i-0)/(0.658249-0)\n",
    "    Freedom.append(m)\n",
    "    m=0\n",
    "for i in df_happy['Generosity'] :\n",
    "    m=(i-0)/(0.838075-0)\n",
    "    Generosity.append(m)\n",
    "    m=0\n",
    "for i in df_happy['Trust'] :\n",
    "    m=(i-0)/(0.464308-0)\n",
    "    Trust.append(i)\n",
    "    m=0\n",
    "for i in df_happy['Dystopia.Residual'] :\n",
    "    m=(i-0.377914)/(3.117485-0.377914)\n",
    "    Dystopia.append(i)\n",
    "    m=0\n",
    "One=[]    \n",
    "for i in range(1,156,1):\n",
    "    m=1\n",
    "    One.append(m)\n",
    "total=[]    \n",
    "total.append(One)\n",
    "total.append(Economy)\n",
    "total.append(Family)\n",
    "total.append(Health)\n",
    "total.append(Freedom)\n",
    "total.append(Generosity)\n",
    "total.append(Trust)\n",
    "total.append(Dystopia)\n",
    "total_mat=np.matrix(total)                      \n",
    "X=np.transpose(total_mat)\n",
    "a0=[]                                   \n",
    "for i in range(1,156,1):\n",
    "    m=0\n",
    "    a0.append(m)\n",
    "a1=np.matrix(a0)                \n",
    "A=np.transpose(a1)\n",
    "y0=np.matrix(Score)             \n",
    "Y=np.transpose(y0)     \n",
    "A=np.dot(np.dot((np.linalg.inv(np.dot(np.transpose(X),X))),np.transpose(X)),Y)  \n",
    "print(A)\n",
    "#A的系数对应Economy、Family、Health、Freedom、Generosity、Trust、Dystopia.Residual的系数"
   ]
  },
  {
   "cell_type": "markdown",
   "metadata": {},
   "source": [
    "### 分析上面的系数，从上至下出去第一项，分别是Economy、Family、Health、Freedom、Generosity、Trust、Dystopia.Residual的权重系数，最大的三项分别依次对应Economy、Family、Dystopia.Residual，说明他们是影响数据的前三大因素"
   ]
  },
  {
   "cell_type": "markdown",
   "metadata": {},
   "source": [
    "## 因此得出结论，决定幸福指数的前三大因素分别是Economy、Family、Dystopia.Residual"
   ]
  },
  {
   "cell_type": "markdown",
   "metadata": {},
   "source": [
    "========================================================================================================="
   ]
  },
  {
   "cell_type": "markdown",
   "metadata": {},
   "source": [
    "# <center>第二部分 Logistic Regression"
   ]
  },
  {
   "cell_type": "markdown",
   "metadata": {},
   "source": [
    "1.导入必要的库\n",
    "\n"
   ]
  },
  {
   "cell_type": "code",
   "execution_count": 2,
   "metadata": {},
   "outputs": [],
   "source": [
    "import numpy as np\n",
    "import matplotlib.pyplot as plt\n",
    "%matplotlib inline"
   ]
  },
  {
   "cell_type": "markdown",
   "metadata": {},
   "source": [
    "2.生成训练集"
   ]
  },
  {
   "cell_type": "code",
   "execution_count": 3,
   "metadata": {},
   "outputs": [
    {
     "data": {
      "text/plain": [
       "[-0.01, 1.02, -0.01, 1.02]"
      ]
     },
     "execution_count": 3,
     "metadata": {},
     "output_type": "execute_result"
    },
    {
     "data": {
      "image/png": "[encoded data removed]",
      "text/plain": [
       "<Figure size 720x576 with 1 Axes>"
      ]
     },
     "metadata": {
      "needs_background": "light"
     },
     "output_type": "display_data"
    }
   ],
   "source": [
    "#先定义相关函数\n",
    "\n",
    "def tureFunction(x):  #边界分类函数\n",
    "    return x+0.5*np.sin(6*x)\n",
    "\n",
    "def sigmod(z):  #定义 sigmod 函数\n",
    "    return 1/(1+np.exp(-z))\n",
    "\n",
    "def costFunction(X,Theta,Y,m):      #logistic regression的costfunction\n",
    "    z=np.dot(X,Theta)\n",
    "    h=sigmod(z)\n",
    "    H=np.log10(h)\n",
    "    H1=np.log10(1-h)\n",
    "    Y1=1-Y\n",
    "    return  -(np.dot(Y.T,H)+np.dot(Y1.T,H1))/m \n",
    "\n",
    "#训练集样本数，取60个做为训练集\n",
    "m=100\n",
    "np.random.seed(233)\n",
    "m_tr=int(m*0.6)\n",
    "\n",
    "x1=np.random.rand(m_tr,1)\n",
    "x2=np.random.rand(m_tr,1)\n",
    "\n",
    "tureBoundary=tureFunction(x1)\n",
    "\n",
    "#根据预设边界给样本点打上标签\n",
    "Y_target=np.zeros((m_tr,1))\n",
    "\n",
    "for i in np.arange(m_tr):\n",
    "    if x2[i,0] >= tureBoundary[i,0]:\n",
    "        Y_target[i,0]=1\n",
    "\n",
    "plt.figure(figsize=(10,8))\n",
    "plt.plot(x1[np.where(Y_target==1)],x2[np.where(Y_target==1)],\"r*\",label=\"y=1\")\n",
    "plt.plot(x1[np.where(Y_target==0)],x2[np.where(Y_target==0)],\"b^\",label=\"y=0\")\n",
    "\n",
    "plt.plot(x1,tureBoundary,\"y.\",label=\"Ture Decide Boundary\")\n",
    "plt.xlabel('$x_1$')\n",
    "plt.ylabel('$x_2$')\n",
    "plt.title(\"Training Set\")\n",
    "plt.legend(loc=\"best\")\n",
    "plt.axis([-0.01,1.02,-0.01,1.02]) #plt.axis([Xmin,Xmax,Ymin,Ymax])"
   ]
  },
  {
   "cell_type": "markdown",
   "metadata": {},
   "source": [
    "3.特征映射"
   ]
  },
  {
   "cell_type": "code",
   "execution_count": 4,
   "metadata": {},
   "outputs": [
    {
     "name": "stdout",
     "output_type": "stream",
     "text": [
      "最高次幂： 30 \n",
      "特征数： 496\n"
     ]
    }
   ],
   "source": [
    "def FeatureMapping(x1,x2,n):\n",
    "    '''\n",
    "    定义幂函数特征项\n",
    "    [x1,x2] --训练集的x值的两个分量\n",
    "    n --表示最高阶幂次\n",
    "    输出（m,2n+1)的矩阵'''\n",
    "    \n",
    "    m_tr=len(x1)\n",
    "    XX=np.ones((m_tr,1))\n",
    "    \n",
    "    for i in np.arange(1,n+1):\n",
    "        for j in np.arange(i+1):\n",
    "            g=np.power(x1,i-j)*np.power(x2,j)\n",
    "            XX=np.column_stack((XX,g))\n",
    "    return XX\n",
    "\n",
    "n=30\n",
    "\n",
    "X=FeatureMapping(x1,x2,n)\n",
    "\n",
    "#给定最高次幂n, 计算特征数\n",
    "k=0\n",
    "for i in np.arange(n+2):\n",
    "    k=i+k\n",
    "\n",
    "print(\"最高次幂：\",n,\"\\n特征数：\",k)"
   ]
  },
  {
   "cell_type": "markdown",
   "metadata": {},
   "source": [
    "4.训练"
   ]
  },
  {
   "cell_type": "code",
   "execution_count": 5,
   "metadata": {},
   "outputs": [
    {
     "name": "stderr",
     "output_type": "stream",
     "text": [
      "/Users/linyuchen/opt/anaconda3/lib/python3.7/site-packages/ipykernel_launcher.py:13: RuntimeWarning: divide by zero encountered in log10\n",
      "  del sys.path[0]\n"
     ]
    },
    {
     "name": "stdout",
     "output_type": "stream",
     "text": [
      "Final J value 0.1113582463212263\n"
     ]
    },
    {
     "data": {
      "image/png": "[encoded data removed]",
      "text/plain": [
       "<Figure size 432x288 with 1 Axes>"
      ]
     },
     "metadata": {
      "needs_background": "light"
     },
     "output_type": "display_data"
    }
   ],
   "source": [
    "#设定一个Theta的随机初值\n",
    "Theta=np.random.rand(k).reshape(k,1)\n",
    "\n",
    "iter=200000 #梯度下降的迭代次数\n",
    "alpha=0.18 #学习率\n",
    "lamda=0.2 #正则化系数\n",
    "\n",
    "#准备储存每步迭代的lost function值\n",
    "J_history=np.zeros((iter,1))\n",
    "\n",
    "for i in np.arange(iter):\n",
    "    z=np.dot(X,Theta)\n",
    "    h=sigmod(z)\n",
    "    Theta1= np.copy(Theta) #用于计算正则化的权重，注意要去掉第一项权重Theta0\n",
    "    Theta1[0,0]=0 #去掉第一个权重\n",
    "    Theta=Theta-alpha/m_tr*(np.dot(X.T,h-Y_target)+lamda*Theta1)\n",
    "    J_history[i,0]=costFunction(X,Theta,Y_target,m_tr)+lamda/2/m*np.dot(Theta1.T,Theta1)\n",
    "\n",
    "plt.plot(J_history[:,0],\"b-\",label=\"cost function\")\n",
    "plt.xlabel(\"iter_num\")\n",
    "plt.ylabel(\"$J$\")\n",
    "plt.legend(loc=\"best\")\n",
    "print(\"Final J value\",J_history[-1,0])\n",
    "    \n",
    "#将训练得到的权重和预测的分类储存下来\n",
    "Theta_prediction=Theta\n",
    "Y_prediction=sigmod(np.dot(FeatureMapping(x1,x2,n),Theta_prediction))"
   ]
  },
  {
   "cell_type": "markdown",
   "metadata": {},
   "source": [
    "5.画预测的分类边界（z=0的等高线）"
   ]
  },
  {
   "cell_type": "code",
   "execution_count": 6,
   "metadata": {},
   "outputs": [
    {
     "name": "stderr",
     "output_type": "stream",
     "text": [
      "/Users/linyuchen/opt/anaconda3/lib/python3.7/site-packages/ipykernel_launcher.py:40: UserWarning: The following kwargs were not used by contour: 'label'\n"
     ]
    },
    {
     "data": {
      "text/plain": [
       "Text(0.5, 1.0, 'Prediction vs Boundary')"
      ]
     },
     "execution_count": 6,
     "metadata": {},
     "output_type": "execute_result"
    },
    {
     "data": {
      "image/png": "[encoded data removed]",
      "text/plain": [
       "<Figure size 720x576 with 1 Axes>"
      ]
     },
     "metadata": {
      "needs_background": "light"
     },
     "output_type": "display_data"
    }
   ],
   "source": [
    "'''\n",
    "决策边界，不是训练集的属性，\n",
    "而是假设本身及参数的属性，\n",
    "其中参数由训练集拟合。\n",
    "下面计算分类边界时的‘z’\n",
    "其中featuremapping反映的是我们的‘假设’，\n",
    "而Theta_prediction则是反映参数  '''\n",
    "\n",
    "\n",
    "\n",
    "\n",
    "#定义网格点的Featuremapping\n",
    "def FeatureMappingS(x1,x2,n):\n",
    "    '''\n",
    "    对x1--x2 平面网格点的单点Feature Mapping\n",
    "    定义函数最高阶次幂\n",
    "    x1,x2训练集的x值的两个分量\n",
    "    n-表示最高次幂\n",
    "    输出：(1,2*n+1)的矩阵'''\n",
    "    XX=np.ones((1,1))\n",
    "    \n",
    "    for i in np.arange(1,n+1):\n",
    "        for j in np.arange(i+1):\n",
    "            g=np.power(x1,i-j)*np.power(x2,j)\n",
    "            XX=np.column_stack((XX,g))\n",
    "    return XX\n",
    "\n",
    "u=np.linspace(0,1,60)\n",
    "v=np.linspace(0,1,60)\n",
    "z=np.zeros((60,60))\n",
    "for i in np.arange(60):\n",
    "    for j in np.arange(60):\n",
    "        z[i,j]=np.dot(FeatureMappingS(u[i],v[j],n),Theta_prediction)\n",
    "        \n",
    "        \n",
    "Z=z.T\n",
    "plt.figure(figsize=(10,8))\n",
    "\n",
    "#画分类边界 Z=0\n",
    "plt.contour(u,v,Z,0,label=\"Prediction Boundary\")\n",
    "\n",
    "#画样本点\n",
    "plt.plot(x1[np.where(Y_target==1)],x2[np.where(Y_target==1)],\"r*\",label=\"y=1\")\n",
    "plt.plot(x1[np.where(Y_target==0)],x2[np.where(Y_target==0)],\"b^\",label=\"y=0\")\n",
    "\n",
    "#画真实的分类边界\n",
    "plt.plot(x1,tureBoundary,'y.',alpha=0.4,label=\"Ture Boundary\")\n",
    "plt.xlabel('$x_1')\n",
    "plt.ylabel('$x_2')\n",
    "plt.axis([-0.01,1.02,-0.01,1.02])\n",
    "plt.legend(loc='best')\n",
    "plt.title(\"Prediction vs Boundary\")"
   ]
  },
  {
   "cell_type": "markdown",
   "metadata": {},
   "source": [
    "6.交叉验证"
   ]
  },
  {
   "cell_type": "code",
   "execution_count": 14,
   "metadata": {},
   "outputs": [
    {
     "name": "stderr",
     "output_type": "stream",
     "text": [
      "/Users/linyuchen/opt/anaconda3/lib/python3.7/site-packages/ipykernel_launcher.py:23: UserWarning: The following kwargs were not used by contour: 'label'\n"
     ]
    },
    {
     "data": {
      "text/plain": [
       "Text(0.5, 1.0, 'CV Set')"
      ]
     },
     "execution_count": 14,
     "metadata": {},
     "output_type": "execute_result"
    },
    {
     "data": {
      "image/png": "[encoded data removed]",
      "text/plain": [
       "<Figure size 720x576 with 1 Axes>"
      ]
     },
     "metadata": {
      "needs_background": "light"
     },
     "output_type": "display_data"
    }
   ],
   "source": [
    "#验证集样本数\n",
    "m_cv=np.int(0.2*m)\n",
    "\n",
    "#生成验证集，取20个做验证\n",
    "\n",
    "x1_cv=np.random.rand(m_cv,1)\n",
    "x2_cv=np.random.rand(m_cv,1)\n",
    "\n",
    "tureBoundary_cv=tureFunction(x1_cv)\n",
    "\n",
    "Y_cv=np.zeros((m_cv,1))\n",
    "\n",
    "for i in np.arange(m_cv):\n",
    "    if x2_cv[i,0]>=tureBoundary_cv[i,0]:\n",
    "        Y_cv[i,0]=1\n",
    "        \n",
    "#画验证集的样本点\n",
    "plt.figure(figsize=(10,8))\n",
    "plt.plot(x1_cv[np.where(Y_cv==1)],x2_cv[np.where(Y_cv==1)],\"r*\",label=\"y=1\")\n",
    "plt.plot(x1_cv[np.where(Y_cv==0)],x2_cv[np.where(Y_cv==0)],\"b^\",label=\"y=0\")\n",
    "\n",
    "#画分类边界 Z=0\n",
    "plt.contour(u,v,Z,0,label=\"Prediction Boundary\")\n",
    "\n",
    "#画真实的分类边界\n",
    "plt.plot(x1_cv,tureBoundary_cv,'y.',alpha=0.4,label=\"Ture Decide Boundary\")\n",
    "plt.xlabel('$x_1$')\n",
    "plt.ylabel('$x_2$')\n",
    "plt.axis([-0.01,1.02,-0.01,1.02])\n",
    "plt.legend(loc='best')\n",
    "plt.title(\"CV Set\")"
   ]
  },
  {
   "cell_type": "markdown",
   "metadata": {},
   "source": [
    "7.用 F1-score评估超参数，特别是最高次幂n"
   ]
  },
  {
   "cell_type": "code",
   "execution_count": 15,
   "metadata": {},
   "outputs": [
    {
     "name": "stdout",
     "output_type": "stream",
     "text": [
      "n: 30\n",
      "CV Accuracy 0.95\n",
      "CV Precision: 1.0\n",
      "CV Recall: 0.8888888888888888\n",
      "CV F1_score: 0.9411764705882353\n"
     ]
    }
   ],
   "source": [
    "#评价矩阵Matrix \n",
    "#tp真阳，tn真阴，fp假阳，fn真阴\n",
    "Y_prediction_cv=sigmod(np.dot(FeatureMapping(x1_cv,x2_cv,n),Theta_prediction))\n",
    "\n",
    "tp=len(np.where((Y_prediction_cv>=0.5)&(Y_cv==1))[0])\n",
    "tn=len(np.where((Y_prediction_cv<0.5)&(Y_cv==0))[0])\n",
    "fp=len(np.where((Y_prediction_cv>=0.5)&(Y_cv==0))[0])\n",
    "fn=len(np.where((Y_prediction_cv<0.5)&(Y_cv==1))[0])\n",
    "\n",
    "#计算各类指标及F1-score\n",
    "Accuracy=(tp+tn)/m_cv\n",
    "Precision=tp/(tp+fp)\n",
    "Recall=tp/(tp+fn)\n",
    "F1_score=2/(1/Recall+1/Precision)\n",
    "\n",
    "print(\"n:\",n)\n",
    "print(\"CV Accuracy\",Accuracy)\n",
    "print(\"CV Precision:\",Precision)\n",
    "print(\"CV Recall:\",Recall)\n",
    "print(\"CV F1_score:\",F1_score)\n",
    "\n"
   ]
  },
  {
   "cell_type": "markdown",
   "metadata": {},
   "source": [
    "8.测试集上用 F1-score 评估最终模型的推广能力"
   ]
  },
  {
   "cell_type": "code",
   "execution_count": 16,
   "metadata": {},
   "outputs": [
    {
     "name": "stdout",
     "output_type": "stream",
     "text": [
      "n: 30\n",
      "Test Accuracy 0.9\n",
      "Test Precision: 0.75\n",
      "Test Recall: 1.0\n",
      "Test F1_score: 0.8571428571428572\n"
     ]
    }
   ],
   "source": [
    "#测试样本数，20个测试样本\n",
    "m_test=np.int(0.2*m)\n",
    "\n",
    "#生成验证集\n",
    "x1_test=np.random.rand(m_test,1)\n",
    "x2_test=np.random.rand(m_test,1)\n",
    "\n",
    "tureBoundary_test=tureFunction(x1_test)\n",
    "\n",
    "Y_test=np.zeros((m_test,1))\n",
    "\n",
    "for i in np.arange(m_test):\n",
    "    if x2_test[i,0]>=tureBoundary_test[i,0]:\n",
    "        Y_test[i,0]=1\n",
    "\n",
    "#评价矩阵Matrix \n",
    "#tp真阳，tn真阴，fp假阳，fn真阴\n",
    "\n",
    "Y_prediction_test=sigmod(np.dot(FeatureMapping(x1_test,x2_test,n),Theta_prediction))\n",
    "\n",
    "tp=len(np.where((Y_prediction_test>=0.5)&(Y_test==1))[0])\n",
    "tn=len(np.where((Y_prediction_test<0.5)&(Y_test==0))[0])\n",
    "fp=len(np.where((Y_prediction_test>=0.5)&(Y_test==0))[0])\n",
    "fn=len(np.where((Y_prediction_test<0.5)&(Y_test==1))[0])\n",
    "\n",
    "#计算各类指标及F1-score\n",
    "Accuracy=(tp+tn)/m_cv\n",
    "Precision=tp/(tp+fp)\n",
    "Recall=tp/(tp+fn)\n",
    "F1_score=2/(1/Recall+1/Precision)\n",
    "\n",
    "print(\"n:\",n)\n",
    "print(\"Test Accuracy\",Accuracy)\n",
    "print(\"Test Precision:\",Precision)\n",
    "print(\"Test Recall:\",Recall)\n",
    "print(\"Test F1_score:\",F1_score)\n",
    "\n"
   ]
  },
  {
   "cell_type": "markdown",
   "metadata": {},
   "source": [
    "## 通过以上尝试，我们发现，在交叉验证集上该模型的F1-Score达到了0.94，而在测试集上只有0.86的F1-Score，说明模型仍具有改进的空间。"
   ]
  },
  {
   "cell_type": "code",
   "execution_count": null,
   "metadata": {},
   "outputs": [],
   "source": []
  }
 ],
 "metadata": {
  "kernelspec": {
   "display_name": "Python 3",
   "language": "python",
   "name": "python3"
  },
  "language_info": {
   "codemirror_mode": {
    "name": "ipython",
    "version": 3
   },
   "file_extension": ".py",
   "mimetype": "text/x-python",
   "name": "python",
   "nbconvert_exporter": "python",
   "pygments_lexer": "ipython3",
   "version": "3.7.4"
  }
 },
 "nbformat": 4,
 "nbformat_minor": 2
}
