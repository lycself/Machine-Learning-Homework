{
 "cells": [
  {
   "cell_type": "markdown",
   "metadata": {},
   "source": [
    "# <center>第二次作业 线性回归 Linear Regression"
   ]
  },
  {
   "cell_type": "code",
   "execution_count": 2,
   "metadata": {},
   "outputs": [],
   "source": [
    "import matplotlib.pyplot as plt \n",
    "import numpy as np\n",
    "import numpy.matlib\n",
    "import math\n",
    "from numpy import *"
   ]
  },
  {
   "cell_type": "markdown",
   "metadata": {},
   "source": [
    "## 1.生成训练集"
   ]
  },
  {
   "cell_type": "code",
   "execution_count": 3,
   "metadata": {},
   "outputs": [],
   "source": [
    "#m=40个样本点\n",
    "x_train=[]\n",
    "y_train=[]\n",
    "for q in range(1,41,1):\n",
    "    x_train.append(q/40)                                              \n",
    "    y_train.append(math.sin(6*q/40)+0.01*float(numpy.matlib.randn(1)))"
   ]
  },
  {
   "cell_type": "markdown",
   "metadata": {},
   "source": [
    "## 2.探索最佳n\n",
    "这里回顾上次作业关于学习率的选取，选择a=0.0045这个学习率，逼近较快"
   ]
  },
  {
   "cell_type": "code",
   "execution_count": 4,
   "metadata": {},
   "outputs": [
    {
     "data": {
      "text/plain": [
       "Text(0, 0.5, '$cost_function$')"
      ]
     },
     "execution_count": 4,
     "metadata": {},
     "output_type": "execute_result"
    },
    {
     "data": {
      "image/png": "[encoded data removed]",
      "text/plain": [
       "<Figure size 432x288 with 1 Axes>"
      ]
     },
     "metadata": {
      "needs_background": "light"
     },
     "output_type": "display_data"
    }
   ],
   "source": [
    "import matplotlib.pyplot as plt \n",
    "import numpy as np\n",
    "from scipy import stats\n",
    "%matplotlib inline\n",
    "import math\n",
    "def L(x):\n",
    "    Lx=0.5*(x**4.0-9.0)**2.0   \n",
    "    return Lx\n",
    "def f(t):   \n",
    "    ft=4*(pow(t,4)-9)*x**3    \n",
    "    return ft\n",
    "p=1.7321   #9的4次方根近似值\n",
    "a=0.0045       \n",
    "x=1\n",
    "iterations=[]\n",
    "cost_function=[]\n",
    "i=1\n",
    "value=0\n",
    "while abs(x-p)>0.0001 :\n",
    "    x=x-a*f(x)\n",
    "    i=i+1\n",
    "    iterations.append(i)      \n",
    "    value=L(x)\n",
    "    cost_function.append(value)        \n",
    "plt.plot(iterations,cost_function)   \n",
    "plt.title('$cost_function-iterations$')\n",
    "plt.xlabel(\"$iterations$\")\n",
    "plt.ylabel(\"$cost_function$\")"
   ]
  },
  {
   "cell_type": "markdown",
   "metadata": {},
   "source": [
    "##### 我们可以发现，在n=10处会有一个较佳的结果，故我们在后续探究中，使用n=10"
   ]
  },
  {
   "cell_type": "markdown",
   "metadata": {},
   "source": [
    "## 3.用梯度下降算法的矩阵形式来求theta(赋予初值0）"
   ]
  },
  {
   "cell_type": "code",
   "execution_count": 5,
   "metadata": {},
   "outputs": [],
   "source": [
    "n=10\n",
    "x_train_list=[]\n",
    "for i in range(0,40,1):\n",
    "    x_train_row=[]\n",
    "    x_train_tem=0\n",
    "    for j in range(0,11,1):\n",
    "        x_train_tem=pow(x_train[i],j)\n",
    "        x_train_row.append(x_train_tem)\n",
    "    x_train_list.append(x_train_row) \n",
    "x_train_mat=np.matrix(x_train_list)"
   ]
  },
  {
   "cell_type": "code",
   "execution_count": 6,
   "metadata": {},
   "outputs": [],
   "source": [
    "x_train_mat=np.matrix(x_train_list)\n",
    "y_train_mat=np.matrix(y_train)\n",
    "y_train_mat=y_train_mat.transpose()\n",
    "x_train_mat_transpose=x_train_mat\n",
    "x_train_mat_transpose=x_train_mat.transpose() #做出x,xt,y ma"
   ]
  },
  {
   "cell_type": "code",
   "execution_count": 7,
   "metadata": {},
   "outputs": [],
   "source": [
    "m=40\n",
    "theta_1 = numpy.matlib.zeros((11,1))\n",
    "iterations=0\n",
    "while(iterations<11):\n",
    "    iterations+=1\n",
    "    theta_1=theta_1-np.dot((0.0045/m)*x_train_mat_transpose,(np.dot(x_train_mat,theta_1)-y_train_mat))"
   ]
  },
  {
   "cell_type": "code",
   "execution_count": 8,
   "metadata": {},
   "outputs": [],
   "source": [
    "theta_2=np.dot(np.dot((np.linalg.inv(np.dot(x_train_mat_transpose,x_train_mat))),x_train_mat_transpose),y_train_mat)"
   ]
  },
  {
   "cell_type": "code",
   "execution_count": 10,
   "metadata": {
    "scrolled": true
   },
   "outputs": [
    {
     "data": {
      "text/plain": [
       "matrix([[ 6.04245232e-03, -6.92885540e+00,  2.65043686e+01,\n",
       "         -2.86544033e+02,  2.02959929e+03, -7.40816540e+03,\n",
       "          1.61655038e+04, -2.19875727e+04,  1.82038518e+04,\n",
       "         -8.38007937e+03,  1.64405658e+03]])"
      ]
     },
     "execution_count": 10,
     "metadata": {},
     "output_type": "execute_result"
    }
   ],
   "source": [
    "np.transpose(theta_1-theta_2)"
   ]
  },
  {
   "cell_type": "markdown",
   "metadata": {},
   "source": [
    "### 我们发现theta1和theta2不一样\n",
    "## 4.接下来用测试集进行测试"
   ]
  },
  {
   "cell_type": "code",
   "execution_count": 11,
   "metadata": {},
   "outputs": [],
   "source": [
    "#m=20个样本点\n",
    "x_test=[]\n",
    "y_test=[]\n",
    "for q in range(1,21,1):\n",
    "    x_test.append(q/20)                                              \n",
    "    y_test.append(math.sin(6*q/20)+0.01*float(numpy.matlib.randn(1)))"
   ]
  },
  {
   "cell_type": "code",
   "execution_count": 12,
   "metadata": {},
   "outputs": [],
   "source": [
    "n=10\n",
    "x_test_list=[]\n",
    "for i in range(0,20,1):\n",
    "    x_test_row=[]\n",
    "    x_test_tem=0\n",
    "    for j in range(0,11,1):\n",
    "        x_test_tem=pow(x_test[i],j)\n",
    "        x_test_row.append(x_test_tem)\n",
    "    x_test_list.append(x_test_row)      "
   ]
  },
  {
   "cell_type": "code",
   "execution_count": 13,
   "metadata": {},
   "outputs": [],
   "source": [
    "x_test_mat=np.matrix(x_test_list)\n",
    "y_test_mat=np.matrix(y_test)\n",
    "y_test_mat=y_test_mat.transpose()\n",
    "x_test_mat_transpose=x_test_mat\n",
    "x_test_mat_transpose=x_test_mat.transpose()"
   ]
  },
  {
   "cell_type": "code",
   "execution_count": 14,
   "metadata": {},
   "outputs": [],
   "source": [
    "Htheta_1=np.dot(x_test_mat,theta_1)\n",
    "Htheta_1_y=Htheta_1-y_test_mat\n",
    "Htheta_1_y_transpose=Htheta_1_y\n",
    "Htheta_1_y_transpose=Htheta_1_y_transpose.transpose()\n",
    "Jtheta_1=(1/(2*m))*float(np.dot(Htheta_1_y_transpose,Htheta_1_y))"
   ]
  },
  {
   "cell_type": "code",
   "execution_count": 15,
   "metadata": {},
   "outputs": [],
   "source": [
    "Htheta_2=np.dot(x_test_mat,theta_2)\n",
    "Htheta_2_y=Htheta_2-y_test_mat\n",
    "Htheta_2_y_transpose=Htheta_2_y\n",
    "Htheta_2_y_transpose=Htheta_2_y_transpose.transpose()\n",
    "Jtheta_2=(1/(2*m))*float(np.dot(Htheta_2_y_transpose,Htheta_2_y))"
   ]
  },
  {
   "cell_type": "code",
   "execution_count": 16,
   "metadata": {},
   "outputs": [],
   "source": [
    "HthetaX_2=np.dot(x_train_mat,theta_2)\n",
    "HthetaX_2_y=HthetaX_2-y_train_mat\n",
    "HthetaX_2_y_transpose=HthetaX_2_y\n",
    "HthetaX_2_y_transpose=HthetaX_2_y_transpose.transpose()\n",
    "JthetaX_2=(1/(2*m))*float(np.dot(HthetaX_2_y_transpose,HthetaX_2_y))"
   ]
  },
  {
   "cell_type": "code",
   "execution_count": 17,
   "metadata": {
    "scrolled": false
   },
   "outputs": [
    {
     "name": "stdout",
     "output_type": "stream",
     "text": [
      "Jtheta_1 is:  0.12658883905874938 Jtheta_2 is:  3.4975223238552416e-05\n"
     ]
    }
   ],
   "source": [
    "print('Jtheta_1 is: ',Jtheta_1,'Jtheta_2 is: ',Jtheta_2)"
   ]
  },
  {
   "cell_type": "markdown",
   "metadata": {},
   "source": [
    "### 我们可以发现，用第一种方法算出来的结果更优"
   ]
  },
  {
   "cell_type": "markdown",
   "metadata": {},
   "source": [
    "## 5.我们选择以第二种求theta的方法来做j-n曲线"
   ]
  },
  {
   "cell_type": "code",
   "execution_count": 18,
   "metadata": {},
   "outputs": [
    {
     "data": {
      "text/plain": [
       "<matplotlib.legend.Legend at 0x1a16404ad0>"
      ]
     },
     "execution_count": 18,
     "metadata": {},
     "output_type": "execute_result"
    },
    {
     "data": {
      "image/png": "[encoded data removed]",
      "text/plain": [
       "<Figure size 432x288 with 1 Axes>"
      ]
     },
     "metadata": {
      "needs_background": "light"
     },
     "output_type": "display_data"
    }
   ],
   "source": [
    "N_max=[]\n",
    "JTR=[]\n",
    "JTE=[]\n",
    "for k in range(1,100,1):\n",
    "    N_max.append(k)\n",
    "    xJ_train_list=[]  \n",
    "    for i in range(0,40,1):\n",
    "        xJ_train_row=[]\n",
    "        xJ_train_tem=0\n",
    "        for j in range(0,k+1,1):\n",
    "            xJ_train_tem=pow(x_train[i],j)\n",
    "            xJ_train_row.append(xJ_train_tem)\n",
    "        xJ_train_list.append(xJ_train_row)\n",
    "    xJ_train_mat=np.matrix(xJ_train_list)\n",
    "    yJ_train_mat=np.matrix(y_train)\n",
    "    yJ_train_mat=yJ_train_mat.transpose()\n",
    "    xJ_train_mat_transpose=xJ_train_mat\n",
    "    xJ_train_mat_transpose=xJ_train_mat.transpose()\n",
    "    thetaJ_2=np.dot(np.dot((np.linalg.inv(np.dot(xJ_train_mat_transpose,xJ_train_mat))),xJ_train_mat_transpose),yJ_train_mat)\n",
    "    HthetaJTR_2=np.dot(xJ_train_mat,thetaJ_2)\n",
    "    HthetaJTR_2_y=HthetaJTR_2-yJ_train_mat\n",
    "    HthetaJTR_2_y_transpose=HthetaJTR_2_y\n",
    "    HthetaJTR_2_y_transpose=HthetaJTR_2_y_transpose.transpose()\n",
    "    JthetaJTR_2=(1/(2*40))*float(np.dot(HthetaJTR_2_y_transpose,HthetaJTR_2_y))\n",
    "    JTR.append(JthetaJTR_2)\n",
    "    xJ_test_list=[]\n",
    "    for i in range(0,20,1):\n",
    "        xJ_test_row=[]\n",
    "        xJ_test_tem=0\n",
    "        for j in range(0,k+1,1):\n",
    "            xJ_test_tem=pow(x_test[i],j)\n",
    "            xJ_test_row.append(xJ_test_tem)\n",
    "        xJ_test_list.append(xJ_test_row)\n",
    "    xJ_test_mat=np.matrix(xJ_test_list)\n",
    "    yJ_test_mat=np.matrix(y_test)\n",
    "    yJ_test_mat=yJ_test_mat.transpose()\n",
    "    xJ_test_mat_transpose=xJ_test_mat\n",
    "    xJ_test_mat_transpose=xJ_test_mat.transpose()\n",
    "    HthetaJTE_2=np.dot(xJ_test_mat,thetaJ_2)\n",
    "    HthetaJTE_2_y=HthetaJTE_2-yJ_test_mat\n",
    "    HthetaJTE_2_y_transpose=HthetaJTE_2_y\n",
    "    HthetaJTE_2_y_transpose=HthetaJTE_2_y_transpose.transpose()\n",
    "    JthetaJTE_2=(1/(2*40))*float(np.dot(HthetaJTE_2_y_transpose,HthetaJTE_2_y))\n",
    "    JTE.append(JthetaJTE_2)\n",
    "plt.plot(N_max,JTR,N_max,JTE)\n",
    "plt.title('$J-n$')\n",
    "plt.xlabel(\"$n$\")\n",
    "plt.ylabel(\"$J$\")\n",
    "plt.legend(['Training Group','Test Group'])"
   ]
  },
  {
   "cell_type": "markdown",
   "metadata": {
    "scrolled": true
   },
   "source": [
    "#### 结果发现测试集和训练集的J-n曲线在大部分地方拟合，但是在线段的凸起处有区别，初步判断尖点是原函数不可导的间断点，总体而言，由训练集训练出的函数拟合效果较好。"
   ]
  }
 ],
 "metadata": {
  "kernelspec": {
   "display_name": "Python 3",
   "language": "python",
   "name": "python3"
  },
  "language_info": {
   "codemirror_mode": {
    "name": "ipython",
    "version": 3
   },
   "file_extension": ".py",
   "mimetype": "text/x-python",
   "name": "python",
   "nbconvert_exporter": "python",
   "pygments_lexer": "ipython3",
   "version": "3.7.4"
  }
 },
 "nbformat": 4,
 "nbformat_minor": 2
}
